{
 "cells": [
  {
   "cell_type": "code",
   "execution_count": 1,
   "metadata": {},
   "outputs": [],
   "source": [
    "%matplotlib inline\n",
    "\n",
    "import cv2\n",
    "import matplotlib.pyplot as plt\n",
    "import numpy as np\n",
    "import pickle"
   ]
  },
  {
   "cell_type": "code",
   "execution_count": 2,
   "metadata": {},
   "outputs": [],
   "source": [
    "class Segment:\n",
    "    \n",
    "    def __init__(self, start_index, end_index, frames, bounds):\n",
    "        self.start_index = start_index\n",
    "        self.end_index = end_index\n",
    "        self.frames = frames\n",
    "        self.bounds = bounds\n",
    "\n",
    "class Track:\n",
    "    \n",
    "    def __init__(self, tag, clip_key, track_key, start_time, end_time, segments):\n",
    "        self.tag = tag\n",
    "        self.clip_key = clip_key\n",
    "        self.track_key = track_key\n",
    "        self.start_time = start_time\n",
    "        self.end_time = end_time\n",
    "        self.segments = segments\n",
    "        self.segment_count = len(segments)\n",
    "        self.frame_count = np.sum([len(s.frames) for s in segments])"
   ]
  },
  {
   "cell_type": "code",
   "execution_count": 3,
   "metadata": {},
   "outputs": [],
   "source": [
    "with open('/home/dennis/projects/cacophony/irvideo/usable-data.pk', 'rb') as f:\n",
    "    usable_data = pickle.load(f)"
   ]
  },
  {
   "cell_type": "code",
   "execution_count": 4,
   "metadata": {},
   "outputs": [
    {
     "name": "stdout",
     "output_type": "stream",
     "text": [
      "mins = [1 1 7 7], maxs = [153 113 159 119]\n"
     ]
    }
   ],
   "source": [
    "mins = []\n",
    "maxs = []\n",
    "for tag in usable_data:\n",
    "    tracks = usable_data[tag]\n",
    "    for track in tracks:\n",
    "        for segment in track.segments:\n",
    "            mins.append(np.min(segment.bounds, axis=0))\n",
    "            maxs.append(np.max(segment.bounds, axis=0))\n",
    "print(f'mins = {np.min(np.array(mins), axis=0)}, maxs = {np.max(np.array(maxs), axis=0)}')"
   ]
  },
  {
   "cell_type": "code",
   "execution_count": 5,
   "metadata": {},
   "outputs": [
    {
     "name": "stdout",
     "output_type": "stream",
     "text": [
      "(0, 9)\n",
      "(6, 15)\n",
      "(3, 12)\n",
      "[[0. 0. 0.]\n",
      " [0. 0. 0.]\n",
      " [1. 1. 1.]\n",
      " [1. 1. 1.]]\n",
      "[[1. 1. 1.]\n",
      " [1. 1. 1.]\n",
      " [0. 0. 0.]\n",
      " [0. 0. 0.]]\n",
      "[[0. 1. 1. 1.]\n",
      " [0. 1. 1. 1.]]\n",
      "[[1. 1. 1. 0.]\n",
      " [1. 1. 1. 0.]]\n",
      "[[0. 0. 0. 0.]\n",
      " [0. 0. 0. 0.]\n",
      " [0. 1. 1. 1.]\n",
      " [0. 1. 1. 1.]]\n"
     ]
    }
   ],
   "source": [
    "def center_position(low_bound, high_bound, low_limit, high_limit, space):\n",
    "    size = high_bound - low_bound\n",
    "    extra = space - size\n",
    "    if extra > 0:\n",
    "        if low_bound == low_limit:\n",
    "            return 0, size\n",
    "        elif high_bound == high_limit:\n",
    "            return space-size, space\n",
    "        else:\n",
    "            pad = int(extra/2) + np.random.randint(extra%2 + 1)\n",
    "            return pad, size+pad\n",
    "    else:\n",
    "        return 0, size\n",
    "    \n",
    "def fill_rows(frame, fill_high, space):\n",
    "    f = np.zeros((space, frame.shape[1]))\n",
    "    #print(f'frame {frame.shape}, f {f.shape}')\n",
    "    if fill_high:\n",
    "        f[:frame.shape[0],:] = frame\n",
    "    else:\n",
    "        f[space-frame.shape[0]:,:] = frame\n",
    "    return f\n",
    "    \n",
    "def fill_cols(frame, fill_high, space):\n",
    "    f = np.zeros((frame.shape[0], space))\n",
    "    if fill_high:\n",
    "        f[:,:frame.shape[1]] = frame\n",
    "    else:\n",
    "        f[:,space-frame.shape[1]:] = frame\n",
    "    return f\n",
    "\n",
    "print(center_position(1, 10, 1, 20, 15))\n",
    "print(center_position(11, 20, 1, 20, 15))\n",
    "print(center_position(5, 14, 1, 20, 15))\n",
    "ones = np.ones((2,3))\n",
    "print(fill_rows(ones, False, 4))\n",
    "print(fill_rows(ones, True, 4))\n",
    "print(fill_cols(ones, False, 4))\n",
    "print(fill_cols(ones, True, 4))\n",
    "print(fill_cols(fill_rows(ones, False, 4), False, 4))"
   ]
  },
  {
   "cell_type": "code",
   "execution_count": 6,
   "metadata": {},
   "outputs": [],
   "source": [
    "# bounds order: [left,top,right,bottom]\n",
    "min_left = 1\n",
    "min_top = 1\n",
    "max_right = 159\n",
    "max_bottom = 119\n",
    "edge_bounds = [min_left, min_top, max_right, max_bottom]\n",
    "out_dim = 32\n",
    "out_tracks = []\n",
    "for tag in usable_data:\n",
    "    for track in usable_data[tag]:\n",
    "        for segment in track.segments:\n",
    "            frames = segment.frames\n",
    "            for index, frame in enumerate(frames):\n",
    "                maxdim = max(frame.shape)\n",
    "                f = frame\n",
    "                bounds = segment.bounds[index]\n",
    "                if maxdim > out_dim:\n",
    "                    mindim = min(f.shape)\n",
    "                    diff = maxdim - mindim\n",
    "                    if diff:\n",
    "                        f = np.zeros((maxdim,maxdim))\n",
    "                        c0, c1 = center_position(bounds[0], bounds[2], min_left, max_right, maxdim)\n",
    "                        r0, r1 = center_position(bounds[1], bounds[3], min_top, max_bottom, maxdim)\n",
    "                        f[r0:r1,c0:c1] = frame\n",
    "                    if any(a == b for a,b in zip(bounds, edge_bounds)):\n",
    "                        dim = out_dim\n",
    "                    else:\n",
    "                        dim = maxdim - int((maxdim - out_dim) / 4 + 1) * 4\n",
    "                    f = cv2.resize(f, (dim,dim), interpolation=cv2.INTER_AREA)\n",
    "                    #print(f'resized image of size {frame.shape} with bounds {bounds} to size {f.shape}')\n",
    "                else:\n",
    "                    if bounds[0] == min_left:\n",
    "                        f = fill_cols(f, True, out_dim)\n",
    "                    elif bounds[2] == max_right:\n",
    "                        f = fill_cols(f, False, out_dim)\n",
    "                    if bounds[1] == min_top:\n",
    "                        f = fill_rows(f, True, out_dim)\n",
    "                    elif bounds[3] == max_bottom:\n",
    "                        f = fill_rows(f, False, out_dim)\n",
    "                f = f.astype(np.float32)\n",
    "                maxval = f.max()\n",
    "                f = f / maxval\n",
    "                frames[index] = f\n",
    "        out_tracks.append(track)"
   ]
  },
  {
   "cell_type": "code",
   "execution_count": 7,
   "metadata": {},
   "outputs": [
    {
     "data": {
      "text/plain": [
       "{'hedgehog': 1551,\n",
       " 'unknown': 599,\n",
       " 'false-positive': 4443,\n",
       " 'rodent': 5023,\n",
       " 'possum': 1623,\n",
       " 'cat': 842,\n",
       " 'bird': 1620,\n",
       " 'mustelid': 666,\n",
       " 'insect': 432,\n",
       " 'human': 229,\n",
       " 'leporidae': 836,\n",
       " 'poor tracking': 32,\n",
       " 'sheep': 87,\n",
       " 'part': 82,\n",
       " 'bird/kiwi': 99,\n",
       " 'sealion': 1,\n",
       " 'wallaby': 1180,\n",
       " 'pig': 1}"
      ]
     },
     "execution_count": 7,
     "metadata": {},
     "output_type": "execute_result"
    }
   ],
   "source": [
    "tag_tracks = {}\n",
    "for track in out_tracks:\n",
    "    tag = track.tag\n",
    "    if tag in tag_tracks:\n",
    "        tag_tracks[tag] += 1\n",
    "    else:\n",
    "        tag_tracks[tag] = 1\n",
    "tag_tracks"
   ]
  },
  {
   "cell_type": "code",
   "execution_count": 8,
   "metadata": {},
   "outputs": [],
   "source": [
    "with open('/home/dennis/projects/cacophony/irvideo/usable-data-sized.pk', 'wb') as f:\n",
    "    for track in out_tracks:\n",
    "        pickle.dump(track, f)"
   ]
  },
  {
   "cell_type": "code",
   "execution_count": 10,
   "metadata": {},
   "outputs": [
    {
     "name": "stdout",
     "output_type": "stream",
     "text": [
      " tag rodent, frame shape (32, 23), original bounds [111 105 134 119]\n"
     ]
    },
    {
     "data": {
      "image/png": "[encoded data removed]",
      "text/plain": [
       "<Figure size 432x288 with 1 Axes>"
      ]
     },
     "metadata": {
      "needs_background": "light"
     },
     "output_type": "display_data"
    },
    {
     "name": "stdout",
     "output_type": "stream",
     "text": [
      " tag rodent, frame shape (32, 18), original bounds [ 31 109  49 119]\n"
     ]
    },
    {
     "data": {
      "image/png": "[encoded data removed]",
      "text/plain": [
       "<Figure size 432x288 with 1 Axes>"
      ]
     },
     "metadata": {
      "needs_background": "light"
     },
     "output_type": "display_data"
    },
    {
     "name": "stdout",
     "output_type": "stream",
     "text": [
      " tag unknown, frame shape (11, 32), original bounds [149  10 159  21]\n"
     ]
    },
    {
     "data": {
      "image/png": "[encoded data removed]",
      "text/plain": [
       "<Figure size 432x288 with 1 Axes>"
      ]
     },
     "metadata": {
      "needs_background": "light"
     },
     "output_type": "display_data"
    },
    {
     "name": "stdout",
     "output_type": "stream",
     "text": [
      " tag possum, frame shape (28, 28), original bounds [ 81  40 129  74]\n"
     ]
    },
    {
     "data": {
      "image/png": "[encoded data removed]",
      "text/plain": [
       "<Figure size 432x288 with 1 Axes>"
      ]
     },
     "metadata": {
      "needs_background": "light"
     },
     "output_type": "display_data"
    },
    {
     "name": "stdout",
     "output_type": "stream",
     "text": [
      " tag bird, frame shape (30, 30), original bounds [24 14 48 68]\n"
     ]
    },
    {
     "data": {
      "image/png": "[encoded data removed]",
      "text/plain": [
       "<Figure size 432x288 with 1 Axes>"
      ]
     },
     "metadata": {
      "needs_background": "light"
     },
     "output_type": "display_data"
    },
    {
     "name": "stdout",
     "output_type": "stream",
     "text": [
      " tag false-positive, frame shape (32, 32), original bounds [150   1 159  12]\n"
     ]
    },
    {
     "data": {
      "image/png": "[encoded data removed]",
      "text/plain": [
       "<Figure size 432x288 with 1 Axes>"
      ]
     },
     "metadata": {
      "needs_background": "light"
     },
     "output_type": "display_data"
    },
    {
     "name": "stdout",
     "output_type": "stream",
     "text": [
      " tag possum, frame shape (20, 32), original bounds [139  34 159  54]\n"
     ]
    },
    {
     "data": {
      "image/png": "[encoded data removed]",
      "text/plain": [
       "<Figure size 432x288 with 1 Axes>"
      ]
     },
     "metadata": {
      "needs_background": "light"
     },
     "output_type": "display_data"
    },
    {
     "name": "stdout",
     "output_type": "stream",
     "text": [
      " tag false-positive, frame shape (32, 32), original bounds [ 14   1 103  90]\n"
     ]
    },
    {
     "data": {
      "image/png": "[encoded data removed]",
      "text/plain": [
       "<Figure size 432x288 with 1 Axes>"
      ]
     },
     "metadata": {
      "needs_background": "light"
     },
     "output_type": "display_data"
    },
    {
     "name": "stdout",
     "output_type": "stream",
     "text": [
      " tag false-positive, frame shape (32, 32), original bounds [100   1 152  20]\n"
     ]
    },
    {
     "data": {
      "image/png": "[encoded data removed]",
      "text/plain": [
       "<Figure size 432x288 with 1 Axes>"
      ]
     },
     "metadata": {
      "needs_background": "light"
     },
     "output_type": "display_data"
    },
    {
     "name": "stdout",
     "output_type": "stream",
     "text": [
      " tag false-positive, frame shape (32, 32), original bounds [146   1 159  15]\n"
     ]
    },
    {
     "data": {
      "image/png": "[encoded data removed]",
      "text/plain": [
       "<Figure size 432x288 with 1 Axes>"
      ]
     },
     "metadata": {
      "needs_background": "light"
     },
     "output_type": "display_data"
    }
   ],
   "source": [
    "show_count = 0\n",
    "while show_count < 10:\n",
    "    track = out_tracks[np.random.randint(len(out_tracks))]\n",
    "    segment = track.segments[np.random.randint(len(track.segments))]\n",
    "    index = np.random.randint(len(segment.frames))\n",
    "    frame = segment.frames[index]\n",
    "    if max(frame.shape) >= 28:\n",
    "        print(f' tag {track.tag}, frame shape {frame.shape}, original bounds {segment.bounds[index]}')\n",
    "        plt.imshow(frame, cmap='gray')\n",
    "        plt.show()\n",
    "        show_count += 1"
   ]
  },
  {
   "cell_type": "code",
   "execution_count": 11,
   "metadata": {},
   "outputs": [],
   "source": [
    "del usable_data"
   ]
  },
  {
   "cell_type": "code",
   "execution_count": null,
   "metadata": {},
   "outputs": [],
   "source": []
  }
 ],
 "metadata": {
  "kernelspec": {
   "display_name": "Python 3",
   "language": "python",
   "name": "python3"
  },
  "language_info": {
   "codemirror_mode": {
    "name": "ipython",
    "version": 3
   },
   "file_extension": ".py",
   "mimetype": "text/x-python",
   "name": "python",
   "nbconvert_exporter": "python",
   "pygments_lexer": "ipython3",
   "version": "3.7.7"
  }
 },
 "nbformat": 4,
 "nbformat_minor": 4
}
