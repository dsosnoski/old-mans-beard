{
 "cells": [
  {
   "cell_type": "code",
   "execution_count": 1,
   "metadata": {},
   "outputs": [],
   "source": [
    "%matplotlib inline\n",
    "\n",
    "import cv2\n",
    "import json\n",
    "import math\n",
    "import matplotlib.pyplot as plt\n",
    "import numpy as np"
   ]
  },
  {
   "cell_type": "code",
   "execution_count": 2,
   "metadata": {},
   "outputs": [],
   "source": [
    "DATA_FILE = '/home/dennis/projects/wcc/data.npy'\n",
    "META_FILE = '/home/dennis/projects/wcc/data.json'"
   ]
  },
  {
   "cell_type": "code",
   "execution_count": 3,
   "metadata": {},
   "outputs": [],
   "source": [
    "with open(DATA_FILE, 'rb') as f:\n",
    "    use_samples = np.load(f)\n",
    "    use_probs = np.load(f)\n",
    "    test_samples = np.load(f)\n",
    "    test_probs = np.load(f)\n",
    "with open(META_FILE, 'r') as f:\n",
    "    metadata = json.load(f)"
   ]
  },
  {
   "cell_type": "code",
   "execution_count": 4,
   "metadata": {},
   "outputs": [],
   "source": [
    "from tensorflow.keras.utils import Sequence\n",
    "\n",
    "NOISE_SHAPE = (4000, 4000)\n",
    "\n",
    "\n",
    "class SampleStore:\n",
    "\n",
    "    def __init__(self, samples, sample_dims, actuals=None, noise_scale=None, rotation_limit=None, rotation_prob=0.0, use_flips=None):\n",
    "        self.samples = samples\n",
    "        self.sample_dims = sample_dims\n",
    "        self.actuals = actuals\n",
    "        self.noise_scale = noise_scale\n",
    "        self.noise_mix = None\n",
    "        self.rotation_limit = rotation_limit\n",
    "        self.rotation_prob = rotation_prob\n",
    "        self.use_flips = use_flips\n",
    "        self.epoch_number = 0\n",
    "\n",
    "    @staticmethod\n",
    "    def _rotate_and_clip(image, angle):\n",
    "        # calculate clipping to drop skewed parts of rotated image\n",
    "        clip_size = (math.cos(math.radians(angle)) * np.array(image.shape)).astype(np.int16)\n",
    "        clip_h = min(clip_size[0], image.shape[0])\n",
    "        clip_w = min(clip_size[1], image.shape[1])\n",
    "        base_h = (image.shape[0] - clip_h) // 2\n",
    "        base_w = (image.shape[1] - clip_w) // 2\n",
    "\n",
    "        # rotate and return clipped image\n",
    "        image_center = tuple(np.array(image.shape[1::-1]) / 2)\n",
    "        rot_mat = cv2.getRotationMatrix2D(image_center, angle, 1.0)\n",
    "        result = cv2.warpAffine(image, rot_mat, image.shape[1::-1], flags=cv2.INTER_LINEAR)\n",
    "        return result[base_h:base_h+clip_h,base_w:base_w+clip_w]\n",
    "\n",
    "    @staticmethod\n",
    "    def _random_flip(x, y, axis):\n",
    "        if np.random.random() >= .5:\n",
    "            x = np.flip(x, axis)\n",
    "            if y is not None:\n",
    "                y = np.flip(y, axis)\n",
    "        return x, y\n",
    "\n",
    "    def _format_sample(self, sample, actual=None):\n",
    "        h, w, d = sample.shape\n",
    "        x = sample.copy()\n",
    "        y = None if actual is None else actual.copy()\n",
    "        if self.noise_mix is not None:\n",
    "\n",
    "            # mixin noise per channel\n",
    "            r0 = np.random.randrange(self.noise_mix.shape[0] - h)\n",
    "            c0 = np.random.randrange(self.noise_mix.shape[1] - w)\n",
    "            np.moveaxis(x, [2], [0])\n",
    "            for channel in range(d):\n",
    "                mixin = self.noise_mix[r0:r0+h,c0:c0+w]\n",
    "                x[channel] = np.clip(x[channel] + mixin, 0, 255)\n",
    "            np.moveaxis(x, [0], [2])\n",
    "\n",
    "        rotation_angle = None\n",
    "        if self.rotation_limit is not None and self.rotation_limit > 0 and np.random.random() <= self.rotation_prob:\n",
    "\n",
    "            # get rotation angle, in either direction\n",
    "            rotation_angle = (np.random.random() * 2 - 1) * self.rotation_limit\n",
    "\n",
    "            # rotate and clip the image and actual values\n",
    "            x = self.rotate_image(x, rotation_angle)\n",
    "            if y is not None:\n",
    "                y = self.rotate_image(y, rotation_angle)\n",
    "\n",
    "        # compute random crop of data to input size\n",
    "        # TODO: bias these values so center of samples won't be overused\n",
    "        r0, c0 = 0, 0\n",
    "        r1, c1 = h, w\n",
    "        if x.shape[1] > r1:\n",
    "            offset = np.random.randrange(x.shape[1] - r1)\n",
    "            r0 += offset\n",
    "            r1 += offset\n",
    "        if x.shape[2] > c1:\n",
    "            offset = np.random.randrange(x.shape[2] - c1)\n",
    "            c0 += offset\n",
    "            c1 += offset\n",
    "        x = x[r0:r1, c0:c1]\n",
    "        if y is not None:\n",
    "            y = y[r0:r1, c0:c1]\n",
    "\n",
    "        # randomly flip vertically and  horizontally\n",
    "        if self.use_flip:\n",
    "            x, y = self._random_flip(x, y, 0)\n",
    "            x, y = self._random_flip(x, y, 1)\n",
    "        return x, y\n",
    "\n",
    "    def _create_noise(self):\n",
    "        if self.noise_shape is not None and self.noise_scale is not None:\n",
    "            self.noise_mix = np.random.default_rng().normal(size=self.noise_shape).astype(np.float32) * self.noise_scale\n",
    "\n",
    "    def reset(self):\n",
    "        self._create_noise()\n",
    "        self.epoch_number += 1\n",
    "\n",
    "    def sample(self, index):\n",
    "        actual = None if self.actuals is None else self.actuals[index]\n",
    "        return self._format_sample(self.samples[index], actual)\n",
    "\n",
    "\n",
    "class SampleSequence(Sequence):\n",
    "\n",
    "    def __init__(self, sample_store, batch_size, is_train=True):\n",
    "        self.batch_size = batch_size\n",
    "        self.sample_store = sample_store\n",
    "        self.is_train = is_train\n",
    "        self.sample_order = np.random.permutation(sample_store.sample_count())\n",
    "        self.on_epoch_end()\n",
    "\n",
    "    def __len__(self):\n",
    "        return len(self.sample_store.sample_count()) // self.batch_size\n",
    "\n",
    "    def on_epoch_end(self):\n",
    "        np.random.default_rng().shuffle(self.sample_order)\n",
    "\n",
    "    def __getitem__(self, idx):\n",
    "        indices = self.sample_order[idx * self.batch_size: (idx + 1) * self.batch_size]\n",
    "        batch_x, batch_y = zip(*([self.sample_store.sample(i) for i in indices]))\n",
    "        if self.is_train:\n",
    "            return batch_x, batch_y\n",
    "        else:\n",
    "            return batch_x"
   ]
  },
  {
   "cell_type": "code",
   "execution_count": 9,
   "metadata": {},
   "outputs": [
    {
     "name": "stderr",
     "output_type": "stream",
     "text": [
      "ERROR:root:Internal Python error in the inspect module.\n",
      "Below is the traceback from this internal error.\n",
      "\n"
     ]
    },
    {
     "name": "stdout",
     "output_type": "stream",
     "text": [
      "Traceback (most recent call last):\n",
      "  File \"/home/dennis/tools/anaconda3/envs/laptop/lib/python3.7/site-packages/IPython/core/interactiveshell.py\", line 3331, in run_code\n",
      "    exec(code_obj, self.user_global_ns, self.user_ns)\n",
      "  File \"<ipython-input-9-830527537d24>\", line 3, in <module>\n",
      "    sequence = SampleSequence(store, 4)\n",
      "  File \"<ipython-input-4-f51e33e30f42>\", line 109, in __init__\n",
      "    self.sample_order = np.random.permutation(sample_store.sample_count())\n",
      "AttributeError: 'SampleStore' object has no attribute 'sample_count'\n",
      "\n",
      "During handling of the above exception, another exception occurred:\n",
      "\n",
      "Traceback (most recent call last):\n",
      "  File \"/home/dennis/tools/anaconda3/envs/laptop/lib/python3.7/site-packages/IPython/core/interactiveshell.py\", line 2044, in showtraceback\n",
      "    stb = value._render_traceback_()\n",
      "AttributeError: 'AttributeError' object has no attribute '_render_traceback_'\n",
      "\n",
      "During handling of the above exception, another exception occurred:\n",
      "\n",
      "Traceback (most recent call last):\n",
      "  File \"/home/dennis/tools/anaconda3/envs/laptop/lib/python3.7/site-packages/IPython/core/ultratb.py\", line 1148, in get_records\n",
      "    return _fixed_getinnerframes(etb, number_of_lines_of_context, tb_offset)\n",
      "  File \"/home/dennis/tools/anaconda3/envs/laptop/lib/python3.7/site-packages/IPython/core/ultratb.py\", line 316, in wrapped\n",
      "    return f(*args, **kwargs)\n",
      "  File \"/home/dennis/tools/anaconda3/envs/laptop/lib/python3.7/site-packages/IPython/core/ultratb.py\", line 350, in _fixed_getinnerframes\n",
      "    records = fix_frame_records_filenames(inspect.getinnerframes(etb, context))\n",
      "  File \"/home/dennis/tools/anaconda3/envs/laptop/lib/python3.7/inspect.py\", line 1502, in getinnerframes\n",
      "    frameinfo = (tb.tb_frame,) + getframeinfo(tb, context)\n",
      "  File \"/home/dennis/tools/anaconda3/envs/laptop/lib/python3.7/inspect.py\", line 1460, in getframeinfo\n",
      "    filename = getsourcefile(frame) or getfile(frame)\n",
      "  File \"/home/dennis/tools/anaconda3/envs/laptop/lib/python3.7/inspect.py\", line 696, in getsourcefile\n",
      "    if getattr(getmodule(object, filename), '__loader__', None) is not None:\n",
      "  File \"/home/dennis/tools/anaconda3/envs/laptop/lib/python3.7/inspect.py\", line 733, in getmodule\n",
      "    if ismodule(module) and hasattr(module, '__file__'):\n",
      "  File \"/home/dennis/tools/anaconda3/envs/laptop/lib/python3.7/site-packages/tensorflow/__init__.py\", line 50, in __getattr__\n",
      "    module = self._load()\n",
      "  File \"/home/dennis/tools/anaconda3/envs/laptop/lib/python3.7/site-packages/tensorflow/__init__.py\", line 44, in _load\n",
      "    module = _importlib.import_module(self.__name__)\n",
      "  File \"/home/dennis/tools/anaconda3/envs/laptop/lib/python3.7/importlib/__init__.py\", line 127, in import_module\n",
      "    return _bootstrap._gcd_import(name[level:], package, level)\n",
      "  File \"<frozen importlib._bootstrap>\", line 1006, in _gcd_import\n",
      "  File \"<frozen importlib._bootstrap>\", line 983, in _find_and_load\n",
      "  File \"<frozen importlib._bootstrap>\", line 965, in _find_and_load_unlocked\n",
      "ModuleNotFoundError: No module named 'tensorflow_core.estimator'\n"
     ]
    },
    {
     "ename": "AttributeError",
     "evalue": "'SampleStore' object has no attribute 'sample_count'",
     "output_type": "error",
     "traceback": [
      "\u001b[0;31m---------------------------------------------------------------------------\u001b[0m"
     ]
    }
   ],
   "source": [
    "actuals = (use_probs * 255).astype(np.uint8)\n",
    "store = SampleStore(use_samples, (800, 800), actuals, .1, 30, .5, True)\n",
    "sequence = SampleSequence(store, 4)"
   ]
  },
  {
   "cell_type": "code",
   "execution_count": 8,
   "metadata": {},
   "outputs": [
    {
     "name": "stderr",
     "output_type": "stream",
     "text": [
      "ERROR:root:Internal Python error in the inspect module.\n",
      "Below is the traceback from this internal error.\n",
      "\n"
     ]
    },
    {
     "name": "stdout",
     "output_type": "stream",
     "text": [
      "Traceback (most recent call last):\n",
      "  File \"/home/dennis/tools/anaconda3/envs/laptop/lib/python3.7/site-packages/IPython/core/interactiveshell.py\", line 3331, in run_code\n",
      "    exec(code_obj, self.user_global_ns, self.user_ns)\n",
      "  File \"<ipython-input-8-52496b689640>\", line 2, in <module>\n",
      "    batch_x, batch_y = sequence.__getitem(0)\n",
      "NameError: name 'sequence' is not defined\n",
      "\n",
      "During handling of the above exception, another exception occurred:\n",
      "\n",
      "Traceback (most recent call last):\n",
      "  File \"/home/dennis/tools/anaconda3/envs/laptop/lib/python3.7/site-packages/IPython/core/interactiveshell.py\", line 2044, in showtraceback\n",
      "    stb = value._render_traceback_()\n",
      "AttributeError: 'NameError' object has no attribute '_render_traceback_'\n",
      "\n",
      "During handling of the above exception, another exception occurred:\n",
      "\n",
      "Traceback (most recent call last):\n",
      "  File \"/home/dennis/tools/anaconda3/envs/laptop/lib/python3.7/site-packages/IPython/core/ultratb.py\", line 1148, in get_records\n",
      "    return _fixed_getinnerframes(etb, number_of_lines_of_context, tb_offset)\n",
      "  File \"/home/dennis/tools/anaconda3/envs/laptop/lib/python3.7/site-packages/IPython/core/ultratb.py\", line 316, in wrapped\n",
      "    return f(*args, **kwargs)\n",
      "  File \"/home/dennis/tools/anaconda3/envs/laptop/lib/python3.7/site-packages/IPython/core/ultratb.py\", line 350, in _fixed_getinnerframes\n",
      "    records = fix_frame_records_filenames(inspect.getinnerframes(etb, context))\n",
      "  File \"/home/dennis/tools/anaconda3/envs/laptop/lib/python3.7/inspect.py\", line 1502, in getinnerframes\n",
      "    frameinfo = (tb.tb_frame,) + getframeinfo(tb, context)\n",
      "  File \"/home/dennis/tools/anaconda3/envs/laptop/lib/python3.7/inspect.py\", line 1460, in getframeinfo\n",
      "    filename = getsourcefile(frame) or getfile(frame)\n",
      "  File \"/home/dennis/tools/anaconda3/envs/laptop/lib/python3.7/inspect.py\", line 696, in getsourcefile\n",
      "    if getattr(getmodule(object, filename), '__loader__', None) is not None:\n",
      "  File \"/home/dennis/tools/anaconda3/envs/laptop/lib/python3.7/inspect.py\", line 733, in getmodule\n",
      "    if ismodule(module) and hasattr(module, '__file__'):\n",
      "  File \"/home/dennis/tools/anaconda3/envs/laptop/lib/python3.7/site-packages/tensorflow/__init__.py\", line 50, in __getattr__\n",
      "    module = self._load()\n",
      "  File \"/home/dennis/tools/anaconda3/envs/laptop/lib/python3.7/site-packages/tensorflow/__init__.py\", line 44, in _load\n",
      "    module = _importlib.import_module(self.__name__)\n",
      "  File \"/home/dennis/tools/anaconda3/envs/laptop/lib/python3.7/importlib/__init__.py\", line 127, in import_module\n",
      "    return _bootstrap._gcd_import(name[level:], package, level)\n",
      "  File \"<frozen importlib._bootstrap>\", line 1006, in _gcd_import\n",
      "  File \"<frozen importlib._bootstrap>\", line 983, in _find_and_load\n",
      "  File \"<frozen importlib._bootstrap>\", line 965, in _find_and_load_unlocked\n",
      "ModuleNotFoundError: No module named 'tensorflow_core.estimator'\n"
     ]
    },
    {
     "ename": "NameError",
     "evalue": "name 'sequence' is not defined",
     "output_type": "error",
     "traceback": [
      "\u001b[0;31m---------------------------------------------------------------------------\u001b[0m"
     ]
    },
    {
     "data": {
      "image/png": "[encoded data removed]",
      "text/plain": [
       "<Figure size 2592x864 with 4 Axes>"
      ]
     },
     "metadata": {
      "needs_background": "light"
     },
     "output_type": "display_data"
    }
   ],
   "source": [
    "fig, ax = plt.subplots(1, 4, figsize=(36,12))\n",
    "batch_x, batch_y = sequence.__getitem(0)\n",
    "ax[0].imshow(batch_x[0])\n",
    "ax[1].imshow(batch_x[1])\n",
    "ax[2].imshow(batch_x[2])\n",
    "ax[3].imshow(batch_x[3])\n",
    "plt.show()"
   ]
  },
  {
   "cell_type": "code",
   "execution_count": null,
   "metadata": {},
   "outputs": [],
   "source": []
  }
 ],
 "metadata": {
  "kernelspec": {
   "display_name": "Python 3",
   "language": "python",
   "name": "python3"
  },
  "language_info": {
   "codemirror_mode": {
    "name": "ipython",
    "version": 3
   },
   "file_extension": ".py",
   "mimetype": "text/x-python",
   "name": "python",
   "nbconvert_exporter": "python",
   "pygments_lexer": "ipython3",
   "version": "3.7.7"
  }
 },
 "nbformat": 4,
 "nbformat_minor": 4
}
