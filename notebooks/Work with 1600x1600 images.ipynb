{
 "cells": [
  {
   "cell_type": "code",
   "execution_count": 1,
   "metadata": {},
   "outputs": [],
   "source": [
    "%matplotlib inline\n",
    "\n",
    "import cv2\n",
    "import json\n",
    "import matplotlib.pyplot as plt\n",
    "import numpy as np\n",
    "import os"
   ]
  },
  {
   "cell_type": "code",
   "execution_count": 2,
   "metadata": {},
   "outputs": [
    {
     "name": "stdout",
     "output_type": "stream",
     "text": [
      "loading /home/dennis/projects/wcc/images/BQ31_500_042066\n",
      "loading /home/dennis/projects/wcc/images/BQ31_500_042067\n",
      "loading /home/dennis/projects/wcc/images/BQ31_500_042068\n",
      "loading /home/dennis/projects/wcc/images/BQ31_500_041064\n",
      "loading /home/dennis/projects/wcc/images/BQ31_500_041065\n",
      "loading /home/dennis/projects/wcc/images/BQ31_500_041066\n",
      "loading /home/dennis/projects/wcc/images/BQ31_500_043065\n",
      "loading /home/dennis/projects/wcc/images/BQ31_500_044065\n",
      "loading /home/dennis/projects/wcc/images/BQ31_500_041067\n",
      "loading /home/dennis/projects/wcc/images/BQ31_500_041068\n",
      "loading /home/dennis/projects/wcc/images/BQ31_500_042064\n",
      "loading /home/dennis/projects/wcc/images/BQ31_500_042065\n",
      "loading /home/dennis/projects/wcc/images/BQ31_500_043068\n",
      "loading /home/dennis/projects/wcc/images/BQ31_500_043066\n",
      "loading /home/dennis/projects/wcc/images/BQ31_500_043067\n",
      "loading /home/dennis/projects/wcc/images/BQ31_500_044066\n"
     ]
    }
   ],
   "source": [
    "IMAGE_EXTENSION = '.jp2'\n",
    "JSON_EXTENSION = '.json'\n",
    "\n",
    "def loadImage(base_path):\n",
    "    print(f'loading {base_path}')\n",
    "    img = cv2.imread(base_path + IMAGE_EXTENSION, cv2.IMREAD_COLOR)\n",
    "    mask = np.zeros(img.shape[:-1], np.uint8)\n",
    "    if os.path.exists(base_path + JSON_EXTENSION):\n",
    "        with open(base_path + JSON_EXTENSION) as f:\n",
    "            labels = json.load(f)\n",
    "        shapes = labels['shapes']\n",
    "        for shape in shapes:\n",
    "            points = np.array([shape['points']]).astype('int32')\n",
    "            cv2.fillPoly(mask, points, 255)\n",
    "    return img, mask\n",
    "\n",
    "def loadData(directory):\n",
    "    file_names = [os.path.splitext(n)[0] for _, _, names in os.walk(directory) for n in names if n.endswith(\".jp2\")]\n",
    "    images = []\n",
    "    actuals = []\n",
    "    for f in file_names:\n",
    "        img, mask = loadImage(os.path.join(directory, f))\n",
    "        images.append(img)\n",
    "        actuals.append(mask)\n",
    "    return file_names, np.array(images), np.array(actuals)\n",
    "\n",
    "names, inputs, actuals = loadData('/home/dennis/projects/wcc/images')"
   ]
  },
  {
   "cell_type": "code",
   "execution_count": 21,
   "metadata": {},
   "outputs": [
    {
     "name": "stdout",
     "output_type": "stream",
     "text": [
      "BQ31_500_042066 image (4800, 3200, 3) actual (4800, 3200) with count 4008\n",
      "BQ31_500_042067 image (4800, 3200, 3) actual (4800, 3200) with count 5744\n",
      "BQ31_500_042068 image (4800, 3200, 3) actual (4800, 3200) with count 0\n",
      "BQ31_500_041064 image (4800, 3200, 3) actual (4800, 3200) with count 0\n",
      "BQ31_500_041065 image (4800, 3200, 3) actual (4800, 3200) with count 13517\n",
      "BQ31_500_041066 image (4800, 3200, 3) actual (4800, 3200) with count 0\n",
      "BQ31_500_043065 image (4800, 3200, 3) actual (4800, 3200) with count 0\n",
      "BQ31_500_044065 image (4800, 3200, 3) actual (4800, 3200) with count 8466\n",
      "BQ31_500_041067 image (4800, 3200, 3) actual (4800, 3200) with count 0\n",
      "BQ31_500_041068 image (4800, 3200, 3) actual (4800, 3200) with count 14868\n",
      "BQ31_500_042064 image (4800, 3200, 3) actual (4800, 3200) with count 12797\n",
      "BQ31_500_042065 image (4800, 3200, 3) actual (4800, 3200) with count 4707\n",
      "BQ31_500_043068 image (4800, 3200, 3) actual (4800, 3200) with count 0\n",
      "BQ31_500_043066 image (4800, 3200, 3) actual (4800, 3200) with count 9528\n",
      "BQ31_500_043067 image (4800, 3200, 3) actual (4800, 3200) with count 0\n",
      "BQ31_500_044066 image (4800, 3200, 3) actual (4800, 3200) with count 0\n"
     ]
    }
   ],
   "source": [
    "counts = (actuals != 0).sum(axis=(1,2))\n",
    "for name, image, actual, count in zip(names, inputs, actuals, counts):\n",
    "    print(f'{name} image {image.shape} actual {actual.shape} with count {count}')"
   ]
  },
  {
   "cell_type": "code",
   "execution_count": 26,
   "metadata": {},
   "outputs": [
    {
     "name": "stdout",
     "output_type": "stream",
     "text": [
      "[ 2  3  5  6  8 12 14 15  0 11  1  7 13 10  4  9]\n"
     ]
    },
    {
     "data": {
      "text/plain": [
       "array([15,  0, 11,  1,  7, 13, 10])"
      ]
     },
     "execution_count": 26,
     "metadata": {},
     "output_type": "execute_result"
    }
   ],
   "source": [
    "# select test images with at least some positives, not the highest number of positives\n",
    "sorted_indexes = np.argsort(counts)\n",
    "print(sorted_indexes)\n",
    "test_candidates = sorted_indexes[sum(counts == 0)-1:-2]\n",
    "test_candidates"
   ]
  },
  {
   "cell_type": "code",
   "execution_count": 39,
   "metadata": {},
   "outputs": [
    {
     "name": "stdout",
     "output_type": "stream",
     "text": [
      "[ 1 10]\n",
      "[2, 3, 5, 6, 8, 12, 14, 15, 0, 11, 7, 13, 4, 9]\n",
      "(2, 4800, 3200, 3)\n"
     ]
    }
   ],
   "source": [
    "test_indexes = np.random.choice(test_candidates, 2, replace=False)\n",
    "train_indexes = [i for i in sorted_indexes if i not in test_indexes]\n",
    "print(test_indexes)\n",
    "print(train_indexes)\n",
    "test_inputs = inputs[test_indexes]\n",
    "test_actuals = actuals[test_indexes]\n",
    "train_inputs = inputs[train_indexes]\n",
    "train_actuals = actuals[train_indexes]\n",
    "print(test_inputs.shape)"
   ]
  },
  {
   "cell_type": "code",
   "execution_count": 65,
   "metadata": {},
   "outputs": [
    {
     "data": {
      "text/plain": [
       "(12, 1600, 1600, 3)"
      ]
     },
     "execution_count": 65,
     "metadata": {},
     "output_type": "execute_result"
    }
   ],
   "source": [
    "SAMPLE_SIZE = 1600\n",
    "\n",
    "def split_samples(images, actuals):\n",
    "    rcount = images.shape[1] // SAMPLE_SIZE\n",
    "    ccount = images.shape[2] // SAMPLE_SIZE\n",
    "    split_images = []\n",
    "    split_actuals = []\n",
    "    for image, actual in zip(images, actuals):\n",
    "        for row in range(0, image.shape[0], SAMPLE_SIZE):\n",
    "            for col in range(0, image.shape[1], SAMPLE_SIZE):\n",
    "                split_images.append(image[row:row+SAMPLE_SIZE, col:col+SAMPLE_SIZE])\n",
    "                split_actuals.append(actual[row:row+SAMPLE_SIZE, col:col+SAMPLE_SIZE])\n",
    "    return np.array(split_images), np.array(split_actuals)\n",
    "    \n",
    "test_samples, test_expects = split_samples(test_inputs, test_actuals)\n",
    "train_samples, train_expects = split_samples(train_inputs, train_actuals)"
   ]
  },
  {
   "cell_type": "code",
   "execution_count": 51,
   "metadata": {},
   "outputs": [
    {
     "name": "stdout",
     "output_type": "stream",
     "text": [
      "(4800, 3200, 3)\n"
     ]
    },
    {
     "ename": "AttributeError",
     "evalue": "'list' object has no attribute 'shape'",
     "output_type": "error",
     "traceback": [
      "\u001b[0;31m---------------------------------------------------------------------------\u001b[0m",
      "\u001b[0;31mAttributeError\u001b[0m                            Traceback (most recent call last)",
      "\u001b[0;32m<ipython-input-51-10f575217fe3>\u001b[0m in \u001b[0;36m<module>\u001b[0;34m\u001b[0m\n\u001b[1;32m      2\u001b[0m \u001b[0mprint\u001b[0m\u001b[0;34m(\u001b[0m\u001b[0monein\u001b[0m\u001b[0;34m.\u001b[0m\u001b[0mshape\u001b[0m\u001b[0;34m)\u001b[0m\u001b[0;34m\u001b[0m\u001b[0;34m\u001b[0m\u001b[0m\n\u001b[1;32m      3\u001b[0m \u001b[0msplits\u001b[0m \u001b[0;34m=\u001b[0m \u001b[0mnp\u001b[0m\u001b[0;34m.\u001b[0m\u001b[0mvsplit\u001b[0m\u001b[0;34m(\u001b[0m\u001b[0monein\u001b[0m\u001b[0;34m,\u001b[0m \u001b[0;36m3\u001b[0m\u001b[0;34m)\u001b[0m\u001b[0;34m\u001b[0m\u001b[0;34m\u001b[0m\u001b[0m\n\u001b[0;32m----> 4\u001b[0;31m \u001b[0mprint\u001b[0m\u001b[0;34m(\u001b[0m\u001b[0msplits\u001b[0m\u001b[0;34m.\u001b[0m\u001b[0mshape\u001b[0m\u001b[0;34m)\u001b[0m\u001b[0;34m\u001b[0m\u001b[0;34m\u001b[0m\u001b[0m\n\u001b[0m",
      "\u001b[0;31mAttributeError\u001b[0m: 'list' object has no attribute 'shape'"
     ]
    }
   ],
   "source": [
    "onein = test_inputs[0]\n",
    "print(onein.shape)\n",
    "splits = np.array([np.vsplit(onein, 3)])\n",
    "print(splits.shape)"
   ]
  },
  {
   "cell_type": "code",
   "execution_count": 53,
   "metadata": {},
   "outputs": [
    {
     "data": {
      "text/plain": [
       "(6, 1600, 1600, 3)"
      ]
     },
     "execution_count": 53,
     "metadata": {},
     "output_type": "execute_result"
    }
   ],
   "source": [
    "np.reshape(onein, (6, 1600, 1600, 3)).shape"
   ]
  },
  {
   "cell_type": "code",
   "execution_count": 54,
   "metadata": {},
   "outputs": [
    {
     "data": {
      "text/plain": [
       "(1600, 3200, 3)"
      ]
     },
     "execution_count": 54,
     "metadata": {},
     "output_type": "execute_result"
    }
   ],
   "source": [
    "splits[0].shape"
   ]
  },
  {
   "cell_type": "code",
   "execution_count": 56,
   "metadata": {},
   "outputs": [
    {
     "data": {
      "text/plain": [
       "(6, 1600, 1600, 3)"
      ]
     },
     "execution_count": 56,
     "metadata": {},
     "output_type": "execute_result"
    }
   ],
   "source": [
    "samples = []\n",
    "for split in splits:\n",
    "    samples += np.hsplit(split, 2)\n",
    "np.array(samples).shape"
   ]
  },
  {
   "cell_type": "code",
   "execution_count": 60,
   "metadata": {},
   "outputs": [
    {
     "data": {
      "text/plain": [
       "array([[[[ True,  True,  True],\n",
       "         [ True,  True,  True],\n",
       "         [ True,  True,  True],\n",
       "         ...,\n",
       "         [ True,  True,  True],\n",
       "         [ True,  True,  True],\n",
       "         [ True,  True,  True]],\n",
       "\n",
       "        [[False, False, False],\n",
       "         [False, False, False],\n",
       "         [ True, False, False],\n",
       "         ...,\n",
       "         [False, False, False],\n",
       "         [False, False, False],\n",
       "         [False, False, False]],\n",
       "\n",
       "        [[False, False, False],\n",
       "         [False, False,  True],\n",
       "         [ True,  True, False],\n",
       "         ...,\n",
       "         [False, False, False],\n",
       "         [False, False, False],\n",
       "         [False, False, False]],\n",
       "\n",
       "        ...,\n",
       "\n",
       "        [[False, False, False],\n",
       "         [False, False, False],\n",
       "         [False, False, False],\n",
       "         ...,\n",
       "         [False, False, False],\n",
       "         [False, False, False],\n",
       "         [False, False, False]],\n",
       "\n",
       "        [[False, False, False],\n",
       "         [False, False, False],\n",
       "         [False, False, False],\n",
       "         ...,\n",
       "         [False, False, False],\n",
       "         [False, False, False],\n",
       "         [False, False, False]],\n",
       "\n",
       "        [[False, False, False],\n",
       "         [False, False, False],\n",
       "         [False, False, False],\n",
       "         ...,\n",
       "         [False, False, False],\n",
       "         [False, False, False],\n",
       "         [False, False, False]]],\n",
       "\n",
       "\n",
       "       [[[False, False, False],\n",
       "         [False, False, False],\n",
       "         [False, False, False],\n",
       "         ...,\n",
       "         [False, False, False],\n",
       "         [False, False, False],\n",
       "         [False, False, False]],\n",
       "\n",
       "        [[False, False, False],\n",
       "         [False, False, False],\n",
       "         [False, False, False],\n",
       "         ...,\n",
       "         [False, False, False],\n",
       "         [False, False, False],\n",
       "         [False, False, False]],\n",
       "\n",
       "        [[False, False, False],\n",
       "         [False, False, False],\n",
       "         [False, False, False],\n",
       "         ...,\n",
       "         [False, False, False],\n",
       "         [False, False, False],\n",
       "         [False, False, False]],\n",
       "\n",
       "        ...,\n",
       "\n",
       "        [[False, False, False],\n",
       "         [False, False, False],\n",
       "         [False, False, False],\n",
       "         ...,\n",
       "         [False, False, False],\n",
       "         [False, False, False],\n",
       "         [False, False, False]],\n",
       "\n",
       "        [[False, False, False],\n",
       "         [False, False, False],\n",
       "         [False, False, False],\n",
       "         ...,\n",
       "         [False, False, False],\n",
       "         [False, False, False],\n",
       "         [False, False, False]],\n",
       "\n",
       "        [[ True,  True,  True],\n",
       "         [ True,  True,  True],\n",
       "         [ True,  True,  True],\n",
       "         ...,\n",
       "         [ True,  True,  True],\n",
       "         [ True,  True,  True],\n",
       "         [ True,  True,  True]]],\n",
       "\n",
       "\n",
       "       [[[ True,  True,  True],\n",
       "         [ True,  True,  True],\n",
       "         [ True,  True,  True],\n",
       "         ...,\n",
       "         [ True,  True,  True],\n",
       "         [ True,  True,  True],\n",
       "         [ True,  True,  True]],\n",
       "\n",
       "        [[False, False, False],\n",
       "         [False, False, False],\n",
       "         [False, False, False],\n",
       "         ...,\n",
       "         [False, False, False],\n",
       "         [False, False, False],\n",
       "         [False, False, False]],\n",
       "\n",
       "        [[False, False, False],\n",
       "         [False, False, False],\n",
       "         [False, False, False],\n",
       "         ...,\n",
       "         [False, False, False],\n",
       "         [False, False, False],\n",
       "         [False, False, False]],\n",
       "\n",
       "        ...,\n",
       "\n",
       "        [[False, False, False],\n",
       "         [False, False, False],\n",
       "         [False, False, False],\n",
       "         ...,\n",
       "         [False, False, False],\n",
       "         [False, False, False],\n",
       "         [False, False, False]],\n",
       "\n",
       "        [[False, False, False],\n",
       "         [False, False, False],\n",
       "         [False, False, False],\n",
       "         ...,\n",
       "         [False, False, False],\n",
       "         [False, False, False],\n",
       "         [False, False, False]],\n",
       "\n",
       "        [[False, False, False],\n",
       "         [False, False, False],\n",
       "         [False, False, False],\n",
       "         ...,\n",
       "         [False, False, False],\n",
       "         [False, False, False],\n",
       "         [False, False, False]]],\n",
       "\n",
       "\n",
       "       [[[False, False, False],\n",
       "         [False, False, False],\n",
       "         [False, False, False],\n",
       "         ...,\n",
       "         [False, False, False],\n",
       "         [False, False, False],\n",
       "         [False, False, False]],\n",
       "\n",
       "        [[False, False, False],\n",
       "         [False, False, False],\n",
       "         [False, False, False],\n",
       "         ...,\n",
       "         [False, False, False],\n",
       "         [False, False, False],\n",
       "         [False, False, False]],\n",
       "\n",
       "        [[False, False, False],\n",
       "         [False, False, False],\n",
       "         [False, False, False],\n",
       "         ...,\n",
       "         [False, False, False],\n",
       "         [False, False, False],\n",
       "         [False, False, False]],\n",
       "\n",
       "        ...,\n",
       "\n",
       "        [[False, False, False],\n",
       "         [False, False, False],\n",
       "         [False, False, False],\n",
       "         ...,\n",
       "         [False, False, False],\n",
       "         [False, False, False],\n",
       "         [False, False, False]],\n",
       "\n",
       "        [[False, False, False],\n",
       "         [False, False, False],\n",
       "         [False, False, False],\n",
       "         ...,\n",
       "         [ True, False, False],\n",
       "         [False, False, False],\n",
       "         [False, False, False]],\n",
       "\n",
       "        [[ True,  True,  True],\n",
       "         [ True,  True,  True],\n",
       "         [ True,  True,  True],\n",
       "         ...,\n",
       "         [ True,  True,  True],\n",
       "         [ True,  True,  True],\n",
       "         [ True,  True,  True]]],\n",
       "\n",
       "\n",
       "       [[[ True,  True,  True],\n",
       "         [ True,  True,  True],\n",
       "         [ True,  True,  True],\n",
       "         ...,\n",
       "         [ True,  True,  True],\n",
       "         [ True,  True,  True],\n",
       "         [ True,  True,  True]],\n",
       "\n",
       "        [[False, False, False],\n",
       "         [False, False, False],\n",
       "         [False, False, False],\n",
       "         ...,\n",
       "         [False, False, False],\n",
       "         [False, False, False],\n",
       "         [False, False, False]],\n",
       "\n",
       "        [[False, False,  True],\n",
       "         [ True, False,  True],\n",
       "         [False, False, False],\n",
       "         ...,\n",
       "         [ True, False,  True],\n",
       "         [False, False, False],\n",
       "         [False, False, False]],\n",
       "\n",
       "        ...,\n",
       "\n",
       "        [[False, False, False],\n",
       "         [False, False, False],\n",
       "         [False, False, False],\n",
       "         ...,\n",
       "         [False, False, False],\n",
       "         [False, False, False],\n",
       "         [False, False, False]],\n",
       "\n",
       "        [[False, False, False],\n",
       "         [False, False, False],\n",
       "         [False, False, False],\n",
       "         ...,\n",
       "         [False, False, False],\n",
       "         [False, False, False],\n",
       "         [False, False, False]],\n",
       "\n",
       "        [[False, False, False],\n",
       "         [False, False, False],\n",
       "         [False, False, False],\n",
       "         ...,\n",
       "         [False, False, False],\n",
       "         [False, False, False],\n",
       "         [False, False, False]]],\n",
       "\n",
       "\n",
       "       [[[False, False, False],\n",
       "         [False, False, False],\n",
       "         [False, False, False],\n",
       "         ...,\n",
       "         [False, False, False],\n",
       "         [False, False, False],\n",
       "         [False, False, False]],\n",
       "\n",
       "        [[False, False, False],\n",
       "         [False, False, False],\n",
       "         [False, False, False],\n",
       "         ...,\n",
       "         [False, False, False],\n",
       "         [False, False, False],\n",
       "         [False, False, False]],\n",
       "\n",
       "        [[False, False, False],\n",
       "         [False, False, False],\n",
       "         [False, False, False],\n",
       "         ...,\n",
       "         [False, False, False],\n",
       "         [False, False, False],\n",
       "         [False, False, False]],\n",
       "\n",
       "        ...,\n",
       "\n",
       "        [[False, False, False],\n",
       "         [False, False, False],\n",
       "         [False, False, False],\n",
       "         ...,\n",
       "         [False, False, False],\n",
       "         [False, False, False],\n",
       "         [False, False, False]],\n",
       "\n",
       "        [[False, False, False],\n",
       "         [False, False, False],\n",
       "         [False, False, False],\n",
       "         ...,\n",
       "         [False, False, False],\n",
       "         [False, False, False],\n",
       "         [False, False, False]],\n",
       "\n",
       "        [[ True,  True,  True],\n",
       "         [ True,  True,  True],\n",
       "         [ True,  True,  True],\n",
       "         ...,\n",
       "         [ True,  True,  True],\n",
       "         [ True,  True,  True],\n",
       "         [ True,  True,  True]]]])"
      ]
     },
     "execution_count": 60,
     "metadata": {},
     "output_type": "execute_result"
    }
   ],
   "source": [
    "matches = (np.reshape(onein, (6, 1600, 1600, 3)) == samples)\n",
    "matches"
   ]
  },
  {
   "cell_type": "code",
   "execution_count": 61,
   "metadata": {},
   "outputs": [
    {
     "data": {
      "text/plain": [
       "False"
      ]
     },
     "execution_count": 61,
     "metadata": {},
     "output_type": "execute_result"
    }
   ],
   "source": [
    "reshaped = np.reshape(onein, (6, 1600, 1600, 3))\n",
    "(reshaped[0] == samples[0]).all()"
   ]
  },
  {
   "cell_type": "code",
   "execution_count": null,
   "metadata": {},
   "outputs": [],
   "source": []
  }
 ],
 "metadata": {
  "kernelspec": {
   "display_name": "Python 3",
   "language": "python",
   "name": "python3"
  },
  "language_info": {
   "codemirror_mode": {
    "name": "ipython",
    "version": 3
   },
   "file_extension": ".py",
   "mimetype": "text/x-python",
   "name": "python",
   "nbconvert_exporter": "python",
   "pygments_lexer": "ipython3",
   "version": "3.7.7"
  }
 },
 "nbformat": 4,
 "nbformat_minor": 4
}
